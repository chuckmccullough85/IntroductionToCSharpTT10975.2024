{
 "cells": [
  {
   "cell_type": "markdown",
   "metadata": {},
   "source": [
    "# Matrix\n",
    "## Create a matrix containing Mandelbrot set data\n",
    "\n",
    "Create an image from a simple fractal\n",
    "The Mandelbrot set is the set of complex numbers c for which the function\n",
    "f(z) = z^2 + c does not diverge when iterated from z = 0.\n",
    "The function is iterated until the absolute value of z exceeds 2 or a maximum\n",
    "number of iterations is reached.\n",
    "\n",
    "The Mandelbrot set is colored according to the number of iterations needed\n",
    "to determine that a point is not in the set. Points in the set are colored black.\n",
    "The color of a point outside the set is determined by the number of iterations\n",
    "before the absolute value of z exceeds 2."
   ]
  },
  {
   "cell_type": "markdown",
   "metadata": {},
   "source": [
    "### Complex numbers"
   ]
  },
  {
   "cell_type": "code",
   "execution_count": null,
   "metadata": {
    "dotnet_interactive": {
     "language": "csharp"
    },
    "polyglot_notebook": {
     "kernelName": "csharp"
    },
    "vscode": {
     "languageId": "polyglot-notebook"
    }
   },
   "outputs": [],
   "source": [
    "// install SixLabors.ImageSharp\n",
    "#r \"nuget: SixLabors.ImageSharp\"\n"
   ]
  },
  {
   "cell_type": "code",
   "execution_count": 2,
   "metadata": {
    "dotnet_interactive": {
     "language": "csharp"
    },
    "polyglot_notebook": {
     "kernelName": "csharp"
    },
    "vscode": {
     "languageId": "polyglot-notebook"
    }
   },
   "outputs": [],
   "source": [
    "using SixLabors.ImageSharp.PixelFormats;\n",
    "using SixLabors.ImageSharp;"
   ]
  },
  {
   "cell_type": "code",
   "execution_count": 3,
   "metadata": {
    "dotnet_interactive": {
     "language": "csharp"
    },
    "polyglot_notebook": {
     "kernelName": "csharp"
    },
    "vscode": {
     "languageId": "polyglot-notebook"
    }
   },
   "outputs": [],
   "source": [
    "struct Complex\n",
    "{\n",
    "    public double Real { get; }\n",
    "    public double Imaginary { get; }\n",
    "\n",
    "    public Complex(double real, double imaginary)\n",
    "    {\n",
    "        Real = real;\n",
    "        Imaginary = imaginary;\n",
    "    }\n",
    "\n",
    "    public static Complex operator +(Complex c1, Complex c2)\n",
    "    {\n",
    "        return new Complex(c1.Real + c2.Real, c1.Imaginary + c2.Imaginary);\n",
    "    }\n",
    "\n",
    "    public static Complex operator *(Complex c1, Complex c2)\n",
    "    {\n",
    "        return new Complex(c1.Real * c2.Real - c1.Imaginary * c2.Imaginary, c1.Real * c2.Imaginary + c1.Imaginary * c2.Real);\n",
    "    }\n",
    "\n",
    "    public double MagnitudeSquared()\n",
    "    {\n",
    "        return Real * Real + Imaginary * Imaginary;\n",
    "    }\n",
    "}"
   ]
  },
  {
   "cell_type": "markdown",
   "metadata": {},
   "source": [
    "## translate value to color"
   ]
  },
  {
   "cell_type": "code",
   "execution_count": 4,
   "metadata": {
    "dotnet_interactive": {
     "language": "csharp"
    },
    "polyglot_notebook": {
     "kernelName": "csharp"
    },
    "vscode": {
     "languageId": "polyglot-notebook"
    }
   },
   "outputs": [],
   "source": [
    "Color GetColor(double mu)\n",
    "{\n",
    "    mu *= 150;\n",
    "    int clr1 = (int)mu;\n",
    "    double t2 = mu - clr1;\n",
    "    double t1 = 1 - t2; \n",
    "    var colorCount = (int)Math.Pow(2, 24);\n",
    "    clr1 = clr1 % colorCount;\n",
    "    int clr2 = (clr1 + 1000) % colorCount;\n",
    "\n",
    "    byte r = (byte)((clr1 >> 16) * t1 + (clr2 >> 16) * t2);\n",
    "    byte g = (byte)((clr1>>8 & 0xff) * t1 + (clr2 >> 8 & 0xff) * t2);\n",
    "    byte b = (byte)((clr1&0xff) * t1 + (clr2&0xff) * t2);\n",
    " \n",
    "    return new Color (new Argb32(r,g,b,255));\n",
    "}"
   ]
  },
  {
   "cell_type": "markdown",
   "metadata": {},
   "source": [
    "### Create the fractal"
   ]
  },
  {
   "cell_type": "code",
   "execution_count": null,
   "metadata": {
    "dotnet_interactive": {
     "language": "csharp"
    },
    "polyglot_notebook": {
     "kernelName": "csharp"
    },
    "vscode": {
     "languageId": "polyglot-notebook"
    }
   },
   "outputs": [],
   "source": [
    "int width = 800;\n",
    "int height = 800;\n",
    "Image<Argb32> bitmap = new(width, height);\n",
    "\n",
    "double xmin = -3.5;\n",
    "double xmax = 2.5;\n",
    "double ymin = -4.0;\n",
    "double ymax = 4.0;\n",
    "\n",
    "for (int x = 0; x < width; x++)\n",
    "{\n",
    "    for (int y = 0; y < height; y++)\n",
    "    {\n",
    "        double a = xmin + (xmax - xmin) * x / width;\n",
    "        double b = ymin + (ymax - ymin) * y / height;\n",
    "\n",
    "        Complex c = new Complex(a, b);\n",
    "        Complex z = new Complex(0, 0);\n",
    "\n",
    "        int iterations = 0;\n",
    "        int maxIterations = 2000;\n",
    "\n",
    "        while (iterations < maxIterations && z.MagnitudeSquared() < 4.0)\n",
    "        {\n",
    "            z = z * z + c;\n",
    "            iterations++;\n",
    "        }\n",
    "        \n",
    "        Color color = GetColor(iterations + 1 - \n",
    "            Math.Log(Math.Log(z.MagnitudeSquared())) / Math.Log(2));\n",
    "\n",
    "        bitmap[x, y] = color;\n",
    "    }\n",
    "\n",
    "}\n",
    "bitmap.Save(\"mandelbrot.png\");"
   ]
  },
  {
   "cell_type": "markdown",
   "metadata": {},
   "source": [
    "![](mandelbrot.png)"
   ]
  }
 ],
 "metadata": {
  "kernelspec": {
   "display_name": ".NET (C#)",
   "language": "C#",
   "name": ".net-csharp"
  },
  "language_info": {
   "name": "python"
  },
  "polyglot_notebook": {
   "kernelInfo": {
    "defaultKernelName": "csharp",
    "items": [
     {
      "aliases": [],
      "name": "csharp"
     }
    ]
   }
  }
 },
 "nbformat": 4,
 "nbformat_minor": 2
}
