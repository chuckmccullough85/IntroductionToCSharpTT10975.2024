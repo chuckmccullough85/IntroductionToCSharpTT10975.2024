{
 "cells": [
  {
   "cell_type": "markdown",
   "metadata": {},
   "source": [
    "## Switch Expression"
   ]
  },
  {
   "cell_type": "code",
   "execution_count": null,
   "metadata": {
    "dotnet_interactive": {
     "language": "csharp"
    },
    "polyglot_notebook": {
     "kernelName": "csharp"
    },
    "vscode": {
     "languageId": "polyglot-notebook"
    }
   },
   "outputs": [],
   "source": [
    "// switch expression example\n",
    "\n",
    "int number = 3;\n",
    "string result = number switch\n",
    "{\n",
    "    1 => \"One\",\n",
    "    2 => \"Two\",\n",
    "    3 => \"Three\",\n",
    "    4 => \"Four\",\n",
    "    _ => \"Unknown\"\n",
    "};\n",
    "\n",
    "Console.WriteLine($\"The number is: {result}\");\n"
   ]
  }
 ],
 "metadata": {
  "kernelspec": {
   "display_name": ".NET (C#)",
   "language": "C#",
   "name": ".net-csharp"
  },
  "language_info": {
   "name": "python"
  },
  "polyglot_notebook": {
   "kernelInfo": {
    "defaultKernelName": "csharp",
    "items": [
     {
      "aliases": [],
      "name": "csharp"
     }
    ]
   }
  }
 },
 "nbformat": 4,
 "nbformat_minor": 2
}
