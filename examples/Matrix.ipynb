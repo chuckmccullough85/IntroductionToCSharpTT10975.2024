{
 "cells": [
  {
   "cell_type": "markdown",
   "metadata": {},
   "source": [
    "## Demonstration of making matrix of data an image\n"
   ]
  },
  {
   "cell_type": "code",
   "execution_count": null,
   "metadata": {
    "dotnet_interactive": {
     "language": "csharp"
    },
    "polyglot_notebook": {
     "kernelName": "csharp"
    },
    "vscode": {
     "languageId": "polyglot-notebook"
    }
   },
   "outputs": [],
   "source": [
    "// install SixLabors.ImageSharp\n",
    "#r \"nuget: SixLabors.ImageSharp\"\n",
    "using SixLabors.ImageSharp;\n",
    "using SixLabors.ImageSharp.PixelFormats;"
   ]
  },
  {
   "cell_type": "code",
   "execution_count": 3,
   "metadata": {
    "dotnet_interactive": {
     "language": "csharp"
    },
    "polyglot_notebook": {
     "kernelName": "csharp"
    },
    "vscode": {
     "languageId": "polyglot-notebook"
    }
   },
   "outputs": [],
   "source": [
    "struct Color\n",
    "{\n",
    "    public int Rgba;\n",
    "    public Color(byte r, byte g, byte b, byte a=255)\n",
    "    {\n",
    "        Rgba = (r << 24) | (g << 16) | (b << 8) | a;\n",
    "    }\n",
    "    public byte R => (byte)(Rgba >> 24);\n",
    "    public byte G => (byte)(Rgba >> 16);\n",
    "    public byte B => (byte)(Rgba >> 8);\n",
    "    public byte A => (byte)(Rgba);\n",
    "    public void Deconstruct(out byte r, out byte g, out byte b, out byte a)\n",
    "    {\n",
    "        r = R;\n",
    "        g = G;\n",
    "        b = B;\n",
    "        a = A;\n",
    "    }\n",
    "}"
   ]
  },
  {
   "cell_type": "markdown",
   "metadata": {},
   "source": [
    "Fill a matrix with random data and display it as an image."
   ]
  },
  {
   "cell_type": "code",
   "execution_count": 15,
   "metadata": {
    "dotnet_interactive": {
     "language": "csharp"
    },
    "polyglot_notebook": {
     "kernelName": "csharp"
    },
    "vscode": {
     "languageId": "polyglot-notebook"
    }
   },
   "outputs": [],
   "source": [
    "var matrix = new Color[256, 256];\n",
    "\n",
    "for (int y = 0; y < 256; y++)\n",
    "{\n",
    "    for (int x = 0; x < 256; x++)\n",
    "    {\n",
    "        matrix[y, x] = new Color((byte)x, (byte)y, (byte)(x));\n",
    "    }\n",
    "}\n",
    "\n",
    "var image = new Image<Rgba32>(256, 256);\n",
    "for (int y = 0; y < 256; y++)\n",
    "{\n",
    "    for (int x = 0; x < 256; x++)\n",
    "    {\n",
    "        var (r,g,b,a) = matrix[y, x];\n",
    "        image[x, y] = new Rgba32(r, g, b, a);\n",
    "    }\n",
    "}\n",
    "\n",
    "image.Save(\"output.png\");\n"
   ]
  }
 ],
 "metadata": {
  "kernelspec": {
   "display_name": ".NET (C#)",
   "language": "C#",
   "name": ".net-csharp"
  },
  "language_info": {
   "name": "python"
  },
  "polyglot_notebook": {
   "kernelInfo": {
    "defaultKernelName": "csharp",
    "items": [
     {
      "aliases": [],
      "name": "csharp"
     }
    ]
   }
  }
 },
 "nbformat": 4,
 "nbformat_minor": 2
}
